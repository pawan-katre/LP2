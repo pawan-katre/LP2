{
 "cells": [
  {
   "cell_type": "code",
   "execution_count": 1,
   "id": "af49db27-6414-40db-9707-d3603bbac450",
   "metadata": {},
   "outputs": [
    {
     "name": "stdout",
     "output_type": "stream",
     "text": [
      "Message data =  12.0\n",
      "Encrypted data =  3.0\n",
      "Original Message Sent =  12.0\n"
     ]
    }
   ],
   "source": [
    "# Python for RSA asymmetric cryptographic algorithm.\n",
    "# For demonstration, values are\n",
    "# relatively small compared to practical application\n",
    "import math\n",
    " \n",
    " \n",
    "def gcd(a, h):\n",
    "    temp = 0\n",
    "    while(1):\n",
    "        temp = a % h\n",
    "        if (temp == 0):\n",
    "            return h\n",
    "        a = h\n",
    "        h = temp\n",
    " \n",
    " \n",
    "p = 3\n",
    "q = 7\n",
    "n = p*q\n",
    "e = 2\n",
    "phi = (p-1)*(q-1)\n",
    " \n",
    "while (e < phi):\n",
    " \n",
    "    # e must be co-prime to phi and\n",
    "    # smaller than phi.\n",
    "    if(gcd(e, phi) == 1):\n",
    "        break\n",
    "    else:\n",
    "        e = e+1\n",
    " \n",
    "# Private key (d stands for decrypt)\n",
    "# choosing d such that it satisfies\n",
    "# d*e = 1 + k * totient\n",
    " \n",
    "k = 2\n",
    "d = (1 + (k*phi))/e\n",
    " \n",
    "# Message to be encrypted\n",
    "msg = 12.0\n",
    " \n",
    "print(\"Message data = \", msg)\n",
    " \n",
    "# Encryption c = (msg ^ e) % n\n",
    "c = pow(msg, e)\n",
    "c = math.fmod(c, n)\n",
    "print(\"Encrypted data = \", c)\n",
    " \n",
    "# Decryption m = (c ^ d) % n\n",
    "m = pow(c, d)\n",
    "m = math.fmod(m, n)\n",
    "print(\"Original Message Sent = \", m)"
   ]
  },
  {
   "cell_type": "code",
   "execution_count": null,
   "id": "db54bdbf-9d6f-47c5-a30e-76ee601fa8ef",
   "metadata": {},
   "outputs": [],
   "source": []
  }
 ],
 "metadata": {
  "kernelspec": {
   "display_name": "Python 3 (ipykernel)",
   "language": "python",
   "name": "python3"
  },
  "language_info": {
   "codemirror_mode": {
    "name": "ipython",
    "version": 3
   },
   "file_extension": ".py",
   "mimetype": "text/x-python",
   "name": "python",
   "nbconvert_exporter": "python",
   "pygments_lexer": "ipython3",
   "version": "3.11.7"
  }
 },
 "nbformat": 4,
 "nbformat_minor": 5
}
