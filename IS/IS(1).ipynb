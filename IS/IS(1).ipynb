{
 "cells": [
  {
   "cell_type": "code",
   "execution_count": 1,
   "id": "c52f7245-f57b-48b6-9314-8adc97cf5c3d",
   "metadata": {},
   "outputs": [
    {
     "name": "stdout",
     "output_type": "stream",
     "text": [
      "76\n",
      "102\n"
     ]
    }
   ],
   "source": [
    "# Python3 program to find XOR of ASCII\n",
    "# value of characters in string\n",
    " \n",
    "# Function to find the XOR of ASCII\n",
    "# value of characters in string\n",
    "def XorAscii(str1, len1):\n",
    " \n",
    "    # store value of first character\n",
    "    ans = ord(str1[0])\n",
    " \n",
    "    for i in range(1,len1):\n",
    " \n",
    "        # Traverse string to find the XOR\n",
    "        ans = (ans ^ (ord(str1[i])))\n",
    " \n",
    "    # Return the XOR\n",
    "    return ans\n",
    " \n",
    "# Driver code\n",
    "str1 = \"Hello Word\"\n",
    "len1 = len(str1)\n",
    "print(XorAscii(str1, len1))\n",
    " \n",
    "str1 = \"GfG\"\n",
    "len1 = len(str1)\n",
    "print(XorAscii(str1, len1))\n",
    " "
   ]
  },
  {
   "cell_type": "code",
   "execution_count": null,
   "id": "60919d41-4c22-4e8f-a5c2-6a4ddc949914",
   "metadata": {},
   "outputs": [],
   "source": []
  }
 ],
 "metadata": {
  "kernelspec": {
   "display_name": "Python 3 (ipykernel)",
   "language": "python",
   "name": "python3"
  },
  "language_info": {
   "codemirror_mode": {
    "name": "ipython",
    "version": 3
   },
   "file_extension": ".py",
   "mimetype": "text/x-python",
   "name": "python",
   "nbconvert_exporter": "python",
   "pygments_lexer": "ipython3",
   "version": "3.11.7"
  }
 },
 "nbformat": 4,
 "nbformat_minor": 5
}
