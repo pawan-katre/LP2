{
 "cells": [
  {
   "cell_type": "code",
   "execution_count": 2,
   "id": "9c16000a-88f1-472a-a602-1b3390e166db",
   "metadata": {},
   "outputs": [
    {
     "name": "stdout",
     "output_type": "stream",
     "text": [
      "Simple Question and Answering Program\n",
      "=====================================\n",
      " You may ask any one of these questions\n",
      "Hi\n",
      "How are you?\n",
      "Are you working?\n",
      "What is your name?\n",
      "what did you do yesterday?\n",
      "Quit\n"
     ]
    },
    {
     "name": "stdin",
     "output_type": "stream",
     "text": [
      "Enter one question from above list: How are you?\n"
     ]
    },
    {
     "name": "stdout",
     "output_type": "stream",
     "text": [
      "I am fine\n"
     ]
    },
    {
     "name": "stdin",
     "output_type": "stream",
     "text": [
      "Enter one question from above list: Quit\n"
     ]
    }
   ],
   "source": [
    "\"\"\" Assignment No – 05 (Group B) Program to an elementary chatboat for Simple\n",
    "Question and Answering Application \"\"\"\n",
    "print(\"Simple Question and Answering Program\")\n",
    "print(\"=====================================\")\n",
    "print(\" You may ask any one of these questions\")\n",
    "print(\"Hi\")\n",
    "print(\"How are you?\")\n",
    "print(\"Are you working?\")\n",
    "print(\"What is your name?\")\n",
    "print(\"what did you do yesterday?\")\n",
    "print(\"Quit\")\n",
    "while True:\n",
    "    question = input(\"Enter one question from above list:\")\n",
    "    question = question.lower()\n",
    "    if question in ['hi']:\n",
    "         print(\"Hello\")\n",
    "    elif question in ['how are you?','how do you do?']:\n",
    "         print(\"I am fine\")\n",
    "    elif question in ['are you working?','are you doing any job?']:\n",
    "         print(\"yes. I'am working in KLU\")\n",
    "    elif question in ['what is your name?']:\n",
    "         print(\"My name is Emilia\")\n",
    "         name=input(\"Enter your name?\")\n",
    "         print(\"Nice name and Nice meeting you\",name)\n",
    "    elif question in ['what did you do yesterday?']:\n",
    "         print(\"I saw Bahubali 5 times\")\n",
    "    elif question in ['quit']:\n",
    "         break\n",
    "    else:\n",
    "         print(\"I don't understand what you said\")\n"
   ]
  },
  {
   "cell_type": "code",
   "execution_count": null,
   "id": "deb95728-a858-4f81-a19d-167397ea2330",
   "metadata": {},
   "outputs": [],
   "source": []
  }
 ],
 "metadata": {
  "kernelspec": {
   "display_name": "Python 3 (ipykernel)",
   "language": "python",
   "name": "python3"
  },
  "language_info": {
   "codemirror_mode": {
    "name": "ipython",
    "version": 3
   },
   "file_extension": ".py",
   "mimetype": "text/x-python",
   "name": "python",
   "nbconvert_exporter": "python",
   "pygments_lexer": "ipython3",
   "version": "3.11.7"
  }
 },
 "nbformat": 4,
 "nbformat_minor": 5
}
