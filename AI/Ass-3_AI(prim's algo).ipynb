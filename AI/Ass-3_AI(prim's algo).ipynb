{
 "cells": [
  {
   "cell_type": "code",
   "execution_count": 1,
   "id": "24fa9b86-5661-467b-8d85-c23d999b6f68",
   "metadata": {},
   "outputs": [
    {
     "name": "stdout",
     "output_type": "stream",
     "text": [
      "0-1:19\n",
      "0-2:5\n",
      "1-4:2\n",
      "2-3:1\n"
     ]
    }
   ],
   "source": [
    "INF = 9999999\n",
    "# number of vertices in graph\n",
    "N = 5\n",
    "#creating graph by adjacency matrix method\n",
    "G = [[0, 19, 5, 0, 0],[19, 0, 5, 9, 2],[5, 5, 0, 1, 6],[0, 9, 1, 0, 1],[0, 2, 6, 1, 0]]\n",
    "selected_node = [0, 0, 0, 0, 0]\n",
    "no_edge = 0\n",
    "selected_node[0] = True\n",
    "# printing for edge and weight print(\"Edge : Weight\\n\")\n",
    "while (no_edge < N - 1):\n",
    "    minimum = INF\n",
    "    a = 0\n",
    "    b = 0\n",
    "    for m in range(N):\n",
    "        if selected_node[m]:\n",
    "            for n in range(N):\n",
    "                if ((not selected_node[n]) and G[m][n]):\n",
    "                    # not in selected and there is an edge\n",
    "                    if minimum > G[m][n]:\n",
    "                        minimum = G[m][n]\n",
    "                        a = m\n",
    "                        b = n\n",
    "                        print(str(a) + \"-\" + str(b) + \":\" +        str(G[a][b]))\n",
    "                        selected_node[b] = True\n",
    "                        no_edge += 1\n"
   ]
  },
  {
   "cell_type": "code",
   "execution_count": null,
   "id": "15870417-1771-497a-8a1c-515d845cf6cf",
   "metadata": {},
   "outputs": [],
   "source": []
  }
 ],
 "metadata": {
  "kernelspec": {
   "display_name": "Python 3 (ipykernel)",
   "language": "python",
   "name": "python3"
  },
  "language_info": {
   "codemirror_mode": {
    "name": "ipython",
    "version": 3
   },
   "file_extension": ".py",
   "mimetype": "text/x-python",
   "name": "python",
   "nbconvert_exporter": "python",
   "pygments_lexer": "ipython3",
   "version": "3.11.7"
  }
 },
 "nbformat": 4,
 "nbformat_minor": 5
}
