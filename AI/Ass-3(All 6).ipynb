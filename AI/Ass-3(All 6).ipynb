{
 "cells": [
  {
   "cell_type": "code",
   "execution_count": 1,
   "id": "d7239d8a-e1ce-4dc8-a4a7-dba2d1944feb",
   "metadata": {},
   "outputs": [
    {
     "name": "stdin",
     "output_type": "stream",
     "text": [
      "Enter the number of elements in the array:  5\n"
     ]
    },
    {
     "name": "stdout",
     "output_type": "stream",
     "text": [
      "Enter the elements of the array:\n"
     ]
    },
    {
     "name": "stdin",
     "output_type": "stream",
     "text": [
      " 64\n",
      " 25\n",
      " 22\n",
      " 11\n",
      " 25\n"
     ]
    },
    {
     "name": "stdout",
     "output_type": "stream",
     "text": [
      "Before sorting array elements are - \n",
      "64 25 22 11 25 \n",
      "After sorting array elements are - \n",
      "11 22 25 25 64 \n"
     ]
    }
   ],
   "source": [
    "#Selection Sort\n",
    "def selection_sort(arr):\n",
    "    n = len(arr)\n",
    "    for i in range(n - 1):\n",
    "        small = i  \n",
    "        for j in range(i + 1, n):\n",
    "            if arr[j] < arr[small]:\n",
    "                small = j\n",
    "        arr[i], arr[small] = arr[small], arr[i]\n",
    "\n",
    "def print_arr(arr):\n",
    "    for elem in arr:\n",
    "        print(elem, end=\" \")\n",
    "    print()\n",
    "\n",
    "if __name__ == \"__main__\":\n",
    "    n = int(input(\"Enter the number of elements in the array: \"))\n",
    "    arr = []\n",
    "    print(\"Enter the elements of the array:\")\n",
    "    for _ in range(n):\n",
    "        elem = int(input())\n",
    "        arr.append(elem)\n",
    "\n",
    "    print(\"Before sorting array elements are - \")\n",
    "    print_arr(arr)\n",
    "    selection_sort(arr)\n",
    "    print(\"After sorting array elements are - \")\n",
    "    print_arr(arr)\n"
   ]
  },
  {
   "cell_type": "code",
   "execution_count": 2,
   "id": "5563216e-8639-4c77-88fb-90e1c13bce05",
   "metadata": {},
   "outputs": [
    {
     "name": "stdout",
     "output_type": "stream",
     "text": [
      "Enter details for each job:\n"
     ]
    },
    {
     "name": "stdin",
     "output_type": "stream",
     "text": [
      "Enter the number of jobs:  5\n",
      "Enter job name:  a\n",
      "Enter deadline for job a:  2\n",
      "Enter profit for job a:  100\n",
      "Enter job name:  b\n",
      "Enter deadline for job b:  1\n",
      "Enter profit for job b:  19\n",
      "Enter job name:  c\n",
      "Enter deadline for job c:  2\n",
      "Enter profit for job c:  27\n",
      "Enter job name:  d\n",
      "Enter deadline for job d:  1\n",
      "Enter profit for job d:  25\n",
      "Enter job name:  e\n",
      "Enter deadline for job e:  3\n",
      "Enter profit for job e:  15\n"
     ]
    },
    {
     "name": "stdout",
     "output_type": "stream",
     "text": [
      "Scheduled Jobs: ['c', 'a', 'e']\n",
      "Total profit: 142\n"
     ]
    }
   ],
   "source": [
    "#Job Scheduling Problem\n",
    "\n",
    "def job_scheduling(jobs):\n",
    "    jobs.sort(key=lambda x: x[2], reverse=True)\n",
    "    max_deadline = max(jobs, key=lambda x: x[1])[1]\n",
    "    result = [-1] * (max_deadline + 1)\n",
    "    total_profit = 0\n",
    "    for job in jobs:\n",
    "        for j in range(job[1], 0, -1):\n",
    "            if result[j] == -1:\n",
    "                result[j] = job[0]\n",
    "                total_profit += job[2]\n",
    "                break\n",
    "    return result[1:], total_profit\n",
    "\n",
    "def take_input():\n",
    "    jobs = []\n",
    "    n = int(input(\"Enter the number of jobs: \"))\n",
    "    for i in range(n):\n",
    "        name = input(\"Enter job name: \")\n",
    "        deadline = int(input(\"Enter deadline for job {}: \".format(name)))\n",
    "        profit = int(input(\"Enter profit for job {}: \".format(name)))\n",
    "        jobs.append((name, deadline, profit))\n",
    "    return jobs\n",
    "\n",
    "print(\"Enter details for each job:\")\n",
    "jobs = take_input()\n",
    "schedule, total_profit = job_scheduling(jobs)\n",
    "print(\"Scheduled Jobs:\", schedule)\n",
    "print(\"Total profit:\", total_profit)\n"
   ]
  },
  {
   "cell_type": "code",
   "execution_count": 3,
   "id": "58a01d9b-8c9e-4271-8b26-f3b1fc756370",
   "metadata": {},
   "outputs": [
    {
     "name": "stdout",
     "output_type": "stream",
     "text": [
      "Enter graph details:\n"
     ]
    },
    {
     "name": "stdin",
     "output_type": "stream",
     "text": [
      "Enter the number of edges:  5\n"
     ]
    },
    {
     "name": "stdout",
     "output_type": "stream",
     "text": [
      "Enter edges in the format 'source destination weight': \n"
     ]
    },
    {
     "name": "stdin",
     "output_type": "stream",
     "text": [
      " A B 6\n",
      " B C 4\n",
      " C D 15\n",
      " A D 10\n",
      " A C 5\n"
     ]
    },
    {
     "name": "stdout",
     "output_type": "stream",
     "text": [
      "Minimum Spanning Tree edges using simple approach:\n",
      "('B', 'C', 4)\n",
      "('A', 'C', 5)\n",
      "('A', 'D', 10)\n",
      "Total cost of Minimum Spanning Tree: 19\n"
     ]
    }
   ],
   "source": [
    "#Minimum Spanning Tree\n",
    "\n",
    "class Graph:\n",
    "    def __init__(self):\n",
    "        self.graph = []\n",
    "\n",
    "    def add_edge(self, u, v, w):\n",
    "        self.graph.append([u, v, w])\n",
    "\n",
    "    def minimum_spanning_tree(self):\n",
    "        self.graph.sort(key=lambda x: x[2])\n",
    "\n",
    "        parent = {}  \n",
    "        rank = {}   \n",
    "        result = []\n",
    "        total_cost = 0\n",
    "\n",
    "        def find(x):\n",
    "            if parent[x] != x:\n",
    "                parent[x] = find(parent[x])\n",
    "            return parent[x]\n",
    "\n",
    "        def union(x, y):\n",
    "            root_x = find(x)\n",
    "            root_y = find(y)\n",
    "\n",
    "            if rank[root_x] < rank[root_y]:\n",
    "                parent[root_x] = root_y\n",
    "            elif rank[root_x] > rank[root_y]:\n",
    "                parent[root_y] = root_x\n",
    "            else:\n",
    "                parent[root_y] = root_x\n",
    "                rank[root_x] += 1\n",
    "\n",
    "        for u, v, w in self.graph:\n",
    "            if u not in parent:\n",
    "                parent[u] = u\n",
    "                rank[u] = 0\n",
    "            if v not in parent:\n",
    "                parent[v] = v\n",
    "                rank[v] = 0\n",
    "\n",
    "            if find(u) != find(v):\n",
    "                union(u, v)\n",
    "                result.append((u, v, w))\n",
    "                total_cost += w\n",
    "\n",
    "        return result, total_cost\n",
    "\n",
    "def take_input():\n",
    "    edges = int(input(\"Enter the number of edges: \"))\n",
    "    g = Graph()\n",
    "    print(\"Enter edges in the format 'source destination weight': \")\n",
    "    for _ in range(edges):\n",
    "        u, v, w = input().split()\n",
    "        g.add_edge(u, v, int(w))\n",
    "    return g\n",
    "\n",
    "print(\"Enter graph details:\")\n",
    "graph = take_input()\n",
    "mst_edges, total_cost = graph.minimum_spanning_tree()\n",
    "print(\"Minimum Spanning Tree edges using simple approach:\")\n",
    "for edge in mst_edges:\n",
    "    print(edge)\n",
    "print(\"Total cost of Minimum Spanning Tree:\", total_cost)\n"
   ]
  },
  {
   "cell_type": "code",
   "execution_count": 5,
   "id": "14c2ba45-9618-430f-9844-325b8ff7be66",
   "metadata": {},
   "outputs": [
    {
     "name": "stdout",
     "output_type": "stream",
     "text": [
      "Enter graph details:\n"
     ]
    },
    {
     "name": "stdin",
     "output_type": "stream",
     "text": [
      "Enter the number of vertices:  6\n",
      "Enter the number of edges:  10\n"
     ]
    },
    {
     "name": "stdout",
     "output_type": "stream",
     "text": [
      "Enter edges in the format 'source destination weight': \n"
     ]
    },
    {
     "name": "stdin",
     "output_type": "stream",
     "text": [
      " S A 12\n",
      " S B 8\n",
      " A B 9\n",
      " A C 22\n",
      " A E 11\n",
      " B E 14\n",
      " C D 15\n",
      " C E 18\n",
      " E D 3\n",
      " B C 16\n"
     ]
    },
    {
     "name": "stdout",
     "output_type": "stream",
     "text": [
      "Minimum Spanning Tree edges using Prim's algorithm:\n",
      "('B', 'A', 9)\n",
      "('S', 'B', 8)\n",
      "('D', 'C', 15)\n",
      "('A', 'E', 11)\n",
      "('E', 'D', 3)\n",
      "Total cost of Minimum Spanning Tree: 46\n"
     ]
    }
   ],
   "source": [
    "#Prim's Minimal Spanning Tree Algorithm\n",
    "\n",
    "class Graph:\n",
    "    def __init__(self, vertices):\n",
    "        self.V = vertices\n",
    "        self.vertices_dict = {}  \n",
    "        self.graph = [[] for _ in range(vertices)]\n",
    "\n",
    "    def add_edge(self, u, v, w):\n",
    "        u_index = self.get_vertex_index(u)\n",
    "        v_index = self.get_vertex_index(v)\n",
    "        self.graph[u_index].append((v_index, w))\n",
    "        self.graph[v_index].append((u_index, w))\n",
    "\n",
    "    def get_vertex_index(self, vertex):\n",
    "        if vertex not in self.vertices_dict:\n",
    "            index = len(self.vertices_dict)\n",
    "            self.vertices_dict[vertex] = index\n",
    "            return index\n",
    "        return self.vertices_dict[vertex]\n",
    "\n",
    "    def prim_mst(self):\n",
    "        visited = [False] * self.V\n",
    "        key = [float('inf')] * self.V\n",
    "        parent = [-1] * self.V\n",
    "\n",
    "        key[0] = 0\n",
    "        parent[0] = -1\n",
    "\n",
    "        for _ in range(self.V):\n",
    "            u = self.min_key(key, visited)\n",
    "            visited[u] = True\n",
    "\n",
    "            for v, weight in self.graph[u]:\n",
    "                if not visited[v] and weight < key[v]:\n",
    "                    key[v] = weight\n",
    "                    parent[v] = u\n",
    "\n",
    "        mst_edges = []\n",
    "        total_cost = 0\n",
    "        for i in range(1, self.V):\n",
    "            mst_edges.append((self.get_vertex_name(parent[i]), self.get_vertex_name(i), key[i]))\n",
    "            total_cost += key[i]\n",
    "        return mst_edges, total_cost\n",
    "\n",
    "    def min_key(self, key, visited):\n",
    "        min_val = float('inf')\n",
    "        min_index = -1\n",
    "\n",
    "        for v in range(self.V):\n",
    "            if not visited[v] and key[v] < min_val:\n",
    "                min_val = key[v]\n",
    "                min_index = v\n",
    "\n",
    "        return min_index\n",
    "\n",
    "    def get_vertex_name(self, index):\n",
    "        for name, idx in self.vertices_dict.items():\n",
    "            if idx == index:\n",
    "                return name\n",
    "\n",
    "def take_input():\n",
    "    vertices = int(input(\"Enter the number of vertices: \"))\n",
    "    edges = int(input(\"Enter the number of edges: \"))\n",
    "    g = Graph(vertices)\n",
    "    print(\"Enter edges in the format 'source destination weight': \")\n",
    "    for _ in range(edges):\n",
    "        u, v, w = input().split()\n",
    "        g.add_edge(u, v, int(w)) \n",
    "    return g\n",
    "print(\"Enter graph details:\")\n",
    "graph = take_input()\n",
    "mst_edges, total_cost = graph.prim_mst()\n",
    "print(\"Minimum Spanning Tree edges using Prim's algorithm:\")\n",
    "for edge in mst_edges:\n",
    "    print(edge)\n",
    "print(\"Total cost of Minimum Spanning Tree:\", total_cost)\n"
   ]
  },
  {
   "cell_type": "code",
   "execution_count": 6,
   "id": "0c4964f5-996f-496d-a25e-6f55c5e0befe",
   "metadata": {},
   "outputs": [
    {
     "name": "stdout",
     "output_type": "stream",
     "text": [
      "Enter graph details:\n"
     ]
    },
    {
     "name": "stdin",
     "output_type": "stream",
     "text": [
      "Enter the number of edges:  10\n"
     ]
    },
    {
     "name": "stdout",
     "output_type": "stream",
     "text": [
      "Enter edges in the format 'source destination weight': \n"
     ]
    },
    {
     "name": "stdin",
     "output_type": "stream",
     "text": [
      " A B 6\n",
      " A G 15\n",
      " B D 5\n",
      " B C 11\n",
      " G C 25\n",
      " G F 12\n",
      " C D 17\n",
      " C F 9\n",
      " D E 22\n",
      " E F 10\n"
     ]
    },
    {
     "name": "stdout",
     "output_type": "stream",
     "text": [
      "Minimum Spanning Tree edges using Kruskal's algorithm:\n",
      "('B', 'D', 5)\n",
      "('A', 'B', 6)\n",
      "('C', 'F', 9)\n",
      "('E', 'F', 10)\n",
      "('B', 'C', 11)\n",
      "('G', 'F', 12)\n",
      "Total cost of Minimum Spanning Tree: 53\n"
     ]
    }
   ],
   "source": [
    "#Kruskal's Minimal Spanning Tree Algorithm\n",
    "\n",
    "class Graph:\n",
    "    def __init__(self):\n",
    "        self.graph = []\n",
    "\n",
    "    def add_edge(self, u, v, w):\n",
    "        self.graph.append((u, v, w))\n",
    "\n",
    "    def minimum_spanning_tree(self):\n",
    "        self.graph.sort(key=lambda x: x[2])\n",
    "\n",
    "        parent = {}  \n",
    "        rank = {}    \n",
    "        result = []\n",
    "        total_cost = 0\n",
    "\n",
    "        def find(x):\n",
    "            if parent[x] != x:\n",
    "                parent[x] = find(parent[x])\n",
    "            return parent[x]\n",
    "\n",
    "        def union(x, y):\n",
    "            root_x = find(x)\n",
    "            root_y = find(y)\n",
    "\n",
    "            if rank[root_x] < rank[root_y]:\n",
    "                parent[root_x] = root_y\n",
    "            elif rank[root_x] > rank[root_y]:\n",
    "                parent[root_y] = root_x\n",
    "            else:\n",
    "                parent[root_y] = root_x\n",
    "                rank[root_x] += 1\n",
    "\n",
    "        for u, v, w in self.graph:\n",
    "            if u not in parent:\n",
    "                parent[u] = u\n",
    "                rank[u] = 0\n",
    "            if v not in parent:\n",
    "                parent[v] = v\n",
    "                rank[v] = 0\n",
    "\n",
    "            if find(u) != find(v):\n",
    "                union(u, v)\n",
    "                result.append((u, v, w))\n",
    "                total_cost += w\n",
    "\n",
    "        return result, total_cost\n",
    "\n",
    "def take_input():\n",
    "    edges = int(input(\"Enter the number of edges: \"))\n",
    "    g = Graph()\n",
    "    print(\"Enter edges in the format 'source destination weight': \")\n",
    "    for _ in range(edges):\n",
    "        u, v, w = input().split()\n",
    "        g.add_edge(u, v, int(w))\n",
    "    return g\n",
    "\n",
    "print(\"Enter graph details:\")\n",
    "graph = take_input()\n",
    "mst_edges, total_cost = graph.minimum_spanning_tree()\n",
    "print(\"Minimum Spanning Tree edges using Kruskal's algorithm:\")\n",
    "for edge in mst_edges:\n",
    "    print(edge)\n",
    "print(\"Total cost of Minimum Spanning Tree:\", total_cost)\n"
   ]
  },
  {
   "cell_type": "code",
   "execution_count": 7,
   "id": "dc68d7bb-a0c5-4da5-bda4-a50cfc63d09e",
   "metadata": {},
   "outputs": [
    {
     "name": "stdin",
     "output_type": "stream",
     "text": [
      "Enter the number of vertices:  6\n",
      "Enter the number of edges:  8\n",
      "Enter start node, end node, and weight separated by space:  S A 6\n",
      "Enter start node, end node, and weight separated by space:  S D 8\n",
      "Enter start node, end node, and weight separated by space:  S E 7\n",
      "Enter start node, end node, and weight separated by space:  A B 9\n",
      "Enter start node, end node, and weight separated by space:  B C 12\n",
      "Enter start node, end node, and weight separated by space:  C D 3\n",
      "Enter start node, end node, and weight separated by space:  C E 5\n",
      "Enter start node, end node, and weight separated by space:  D E 10\n",
      "Enter the start node:  S\n"
     ]
    },
    {
     "name": "stdout",
     "output_type": "stream",
     "text": [
      "Shortest distances from node S:\n",
      "To node S: 0\n",
      "To node A: 6\n",
      "To node D: 8\n",
      "To node E: 7\n",
      "To node B: 15\n",
      "To node C: 11\n"
     ]
    }
   ],
   "source": [
    "#Dijkstra Minimal Spanning Tree Algorithm\n",
    "\n",
    "import heapq\n",
    "\n",
    "def dijkstra(graph, start):\n",
    "    distances = {node: float('inf') for node in graph}\n",
    "    distances[start] = 0\n",
    "    priority_queue = [(0, start)]\n",
    "    predecessors = {node: None for node in graph}\n",
    "\n",
    "    while priority_queue:\n",
    "        current_distance, current_node = heapq.heappop(priority_queue)\n",
    "\n",
    "        if current_distance > distances[current_node]:\n",
    "            continue\n",
    "\n",
    "        for neighbor, weight in graph[current_node].items():\n",
    "            distance = current_distance + weight\n",
    "           \n",
    "            if distance < distances[neighbor]:\n",
    "                distances[neighbor] = distance\n",
    "                predecessors[neighbor] = current_node\n",
    "                heapq.heappush(priority_queue, (distance, neighbor))\n",
    "\n",
    "    return distances, predecessors\n",
    "\n",
    "def shortest_path(predecessors, start, end):\n",
    "   \n",
    "    path = []\n",
    "    current_node = end\n",
    "    while current_node is not None:\n",
    "        path.insert(0, current_node)\n",
    "        current_node = predecessors[current_node]\n",
    "    return path\n",
    "\n",
    "def main():\n",
    "    \n",
    "    num_vertices = int(input(\"Enter the number of vertices: \"))\n",
    "    num_edges = int(input(\"Enter the number of edges: \"))\n",
    "\n",
    "    graph = {}\n",
    "\n",
    "    for _ in range(num_edges):\n",
    "        start, end, weight = input(\"Enter start node, end node, and weight separated by space: \").split()\n",
    "       \n",
    "        if start not in graph:\n",
    "            graph[start] = {}\n",
    "        if end not in graph:\n",
    "            graph[end] = {}\n",
    "        graph[start][end] = int(weight)\n",
    "        graph[end][start] = int(weight)  \n",
    "  \n",
    "    start_node = input(\"Enter the start node: \")\n",
    "  \n",
    "    shortest_distances, predecessors = dijkstra(graph, start_node)\n",
    "\n",
    "    print(\"Shortest distances from node\", start_node + \":\")\n",
    "    for node, distance in shortest_distances.items():\n",
    "        print(\"To node\", node + \":\", distance)\n",
    "\n",
    "if __name__ == \"__main__\":\n",
    "    main()\n"
   ]
  },
  {
   "cell_type": "code",
   "execution_count": null,
   "id": "612f1502-36dc-410b-929d-925af60b26dc",
   "metadata": {},
   "outputs": [],
   "source": []
  }
 ],
 "metadata": {
  "kernelspec": {
   "display_name": "Python 3 (ipykernel)",
   "language": "python",
   "name": "python3"
  },
  "language_info": {
   "codemirror_mode": {
    "name": "ipython",
    "version": 3
   },
   "file_extension": ".py",
   "mimetype": "text/x-python",
   "name": "python",
   "nbconvert_exporter": "python",
   "pygments_lexer": "ipython3",
   "version": "3.11.7"
  }
 },
 "nbformat": 4,
 "nbformat_minor": 5
}
